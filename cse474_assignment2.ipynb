{
 "cells": [
  {
   "cell_type": "code",
   "execution_count": 1,
   "metadata": {},
   "outputs": [],
   "source": [
    "import pandas as pd\n",
    "import numpy as np\n",
    "import csv\n",
    "import matplotlib.pyplot as plt\n",
    "from sklearn import preprocessing as pp\n",
    "from tensorflow.keras.layers import Dense\n",
    "from tensorflow.keras.models import Sequential\n",
    "from tensorflow.keras.utils import to_categorical\n",
    "from keras_visualizer import visualizer \n",
    "from tensorflow.keras.optimizers import SGD, Adam\n",
    "import tensorflow as tf"
   ]
  },
  {
   "cell_type": "code",
   "execution_count": 2,
   "metadata": {},
   "outputs": [],
   "source": [
    "filename = \"/Users/romi_sai/Desktop/College/Senior/Summer2021/CSE474/Assignments/Assignment2/diabetes.csv\""
   ]
  },
  {
   "cell_type": "code",
   "execution_count": 3,
   "metadata": {},
   "outputs": [],
   "source": [
    "#opening csv & reading in rows \n",
    "#some parts of this code was found on Python Docs (https://docs.python.org/3/library/csv.html)\n",
    "with open(filename, newline='') as csvfile:\n",
    "    lines = csv.reader(csvfile)\n",
    "    rows=[]\n",
    "    for row in lines:\n",
    "        rows.append(row)"
   ]
  },
  {
   "cell_type": "code",
   "execution_count": 4,
   "metadata": {},
   "outputs": [],
   "source": [
    "#Converting the age, bmi, glucose and outcome to lists for easy access\n",
    "pregnancies=[]\n",
    "glucose=[]\n",
    "bp=[]\n",
    "skinthickness=[]\n",
    "insulin=[]\n",
    "bmi=[]\n",
    "pedigree=[]\n",
    "age=[]\n",
    "out=[]\n",
    "for thing in rows:\n",
    "    pregnancies.append(thing[0])\n",
    "    glucose.append(thing[1])\n",
    "    bp.append(thing[2])\n",
    "    skinthickness.append(thing[3])\n",
    "    insulin.append(thing[4])\n",
    "    bmi.append(thing[5])\n",
    "    pedigree.append(thing[6])\n",
    "    age.append(thing[7])\n",
    "    out.append(thing[8])\n",
    "    \n",
    "    \n",
    "pregnancies.remove('Pregnancies')\n",
    "glucose.remove('Glucose')\n",
    "bp.remove(\"BloodPressure\")\n",
    "skinthickness.remove(\"SkinThickness\")\n",
    "insulin.remove(\"Insulin\")\n",
    "bmi.remove(\"BMI\")\n",
    "pedigree.remove(\"DiabetesPedigreeFunction\")\n",
    "age.remove(\"Age\")\n",
    "out.remove(\"Outcome\")\n"
   ]
  },
  {
   "cell_type": "markdown",
   "metadata": {},
   "source": [
    "### Prep: Extracting, Splitting & Normalizing data"
   ]
  },
  {
   "cell_type": "code",
   "execution_count": 5,
   "metadata": {},
   "outputs": [],
   "source": [
    "#defining the train and test datasets for the features: age, bmi and glucose for X and charges for Y\n",
    "train_bias=[]\n",
    "train_gluc=[]\n",
    "train_bmi=[]\n",
    "train_age=[]\n",
    "train_out=[]\n",
    "test_bias=[]\n",
    "test_age=[]\n",
    "test_bmi=[]\n",
    "test_gluc=[]\n",
    "test_out=[]\n",
    "#80%\n",
    "for i in range(0, 614, 1):\n",
    "    train_bias.append(1)\n",
    "    train_gluc.append(glucose[i])\n",
    "    train_bmi.append(bmi[i])\n",
    "    train_age.append(age[i])\n",
    "    train_out.append(out[i])\n",
    "\n",
    "#20%   \n",
    "for j in range(614, 768, 1):\n",
    "    #print(j)\n",
    "    test_bias.append(1)\n",
    "    test_age.append(age[j])\n",
    "    test_bmi.append(bmi[j])\n",
    "    test_gluc.append(glucose[j])\n",
    "    test_out.append(out[j])"
   ]
  },
  {
   "cell_type": "code",
   "execution_count": 6,
   "metadata": {},
   "outputs": [],
   "source": [
    "###Converting the lists from strings to integers and floats\n",
    "##This function was found on the numpy docs (https://numpy.org/doc/stable/reference/generated/numpy.matrix.html)\n",
    "Xtrain = np.matrix((train_bias, train_gluc, train_bmi,train_age), dtype=float)\n",
    "Xtrain = Xtrain.transpose()\n",
    "\n",
    "Xtest = np.matrix((test_bias, test_gluc, test_bmi, test_age), dtype=float)\n",
    "Xtest = Xtest.transpose()\n",
    "\n",
    "Ytrain = np.matrix((train_out), dtype=float)\n",
    "Ytrain = Ytrain.transpose()\n",
    "\n",
    "Ytest = np.matrix((test_out), dtype=float)\n",
    "Ytest = Ytest.transpose()\n",
    "\n",
    "#print(Xtrain.shape)\n",
    "#Xtest.shape"
   ]
  },
  {
   "cell_type": "code",
   "execution_count": 7,
   "metadata": {},
   "outputs": [],
   "source": [
    "##Normalizing the data\n",
    "Xtr_norm = pp.normalize(Xtrain, norm ='l2')\n",
    "Xte_norm = pp.normalize(Xtest, norm ='l2')\n",
    "\n",
    "Ytrain = pp.normalize(Ytrain, norm ='l2')\n",
    "Ytest = pp.normalize(Ytest, norm ='l2')\n",
    "#print(Xtr_norm)"
   ]
  },
  {
   "cell_type": "markdown",
   "metadata": {},
   "source": [
    "# Part 1: Implementing a Neural Network with One Hidden Layer"
   ]
  },
  {
   "cell_type": "code",
   "execution_count": 9,
   "metadata": {},
   "outputs": [
    {
     "name": "stdout",
     "output_type": "stream",
     "text": [
      "Model: \"sequential_1\"\n",
      "_________________________________________________________________\n",
      "Layer (type)                 Output Shape              Param #   \n",
      "=================================================================\n",
      "dense_2 (Dense)              (None, 84)                420       \n",
      "_________________________________________________________________\n",
      "dense_3 (Dense)              (None, 2)                 170       \n",
      "=================================================================\n",
      "Total params: 590\n",
      "Trainable params: 590\n",
      "Non-trainable params: 0\n",
      "_________________________________________________________________\n",
      "None\n",
      "Epoch 1/20\n",
      "10/10 [==============================] - 0s 16ms/step - loss: 11.2353 - accuracy: 0.5961 - val_loss: 0.6688 - val_accuracy: 0.6558\n",
      "Epoch 2/20\n",
      "10/10 [==============================] - 0s 2ms/step - loss: 0.6550 - accuracy: 0.6482 - val_loss: 0.6484 - val_accuracy: 0.6558\n",
      "Epoch 3/20\n",
      "10/10 [==============================] - 0s 2ms/step - loss: 0.6617 - accuracy: 0.6189 - val_loss: 0.6501 - val_accuracy: 0.6364\n",
      "Epoch 4/20\n",
      "10/10 [==============================] - 0s 2ms/step - loss: 0.6520 - accuracy: 0.6287 - val_loss: 0.6607 - val_accuracy: 0.6429\n",
      "Epoch 5/20\n",
      "10/10 [==============================] - 0s 2ms/step - loss: 0.6392 - accuracy: 0.6482 - val_loss: 0.6492 - val_accuracy: 0.6429\n",
      "Epoch 6/20\n",
      "10/10 [==============================] - 0s 2ms/step - loss: 0.6450 - accuracy: 0.6531 - val_loss: 0.6482 - val_accuracy: 0.6429\n",
      "Epoch 7/20\n",
      "10/10 [==============================] - 0s 3ms/step - loss: 0.6433 - accuracy: 0.6547 - val_loss: 0.6418 - val_accuracy: 0.6623\n",
      "Epoch 8/20\n",
      "10/10 [==============================] - 0s 3ms/step - loss: 0.6415 - accuracy: 0.6401 - val_loss: 0.6571 - val_accuracy: 0.6364\n",
      "Epoch 9/20\n",
      "10/10 [==============================] - 0s 2ms/step - loss: 0.6482 - accuracy: 0.6336 - val_loss: 0.6368 - val_accuracy: 0.6429\n",
      "Epoch 10/20\n",
      "10/10 [==============================] - 0s 2ms/step - loss: 0.6391 - accuracy: 0.6694 - val_loss: 0.6275 - val_accuracy: 0.6753\n",
      "Epoch 11/20\n",
      "10/10 [==============================] - 0s 3ms/step - loss: 0.6425 - accuracy: 0.6612 - val_loss: 0.6344 - val_accuracy: 0.6688\n",
      "Epoch 12/20\n",
      "10/10 [==============================] - 0s 3ms/step - loss: 0.6347 - accuracy: 0.6710 - val_loss: 0.6291 - val_accuracy: 0.6818\n",
      "Epoch 13/20\n",
      "10/10 [==============================] - 0s 3ms/step - loss: 0.6320 - accuracy: 0.6792 - val_loss: 0.6550 - val_accuracy: 0.6429\n",
      "Epoch 14/20\n",
      "10/10 [==============================] - 0s 3ms/step - loss: 0.6380 - accuracy: 0.6678 - val_loss: 0.6226 - val_accuracy: 0.6948\n",
      "Epoch 15/20\n",
      "10/10 [==============================] - 0s 2ms/step - loss: 0.6307 - accuracy: 0.6726 - val_loss: 0.6312 - val_accuracy: 0.6494\n",
      "Epoch 16/20\n",
      "10/10 [==============================] - 0s 3ms/step - loss: 0.6393 - accuracy: 0.6498 - val_loss: 0.6498 - val_accuracy: 0.6623\n",
      "Epoch 17/20\n",
      "10/10 [==============================] - 0s 3ms/step - loss: 0.6323 - accuracy: 0.6775 - val_loss: 0.6347 - val_accuracy: 0.6753\n",
      "Epoch 18/20\n",
      "10/10 [==============================] - 0s 3ms/step - loss: 0.6326 - accuracy: 0.6515 - val_loss: 0.6324 - val_accuracy: 0.6429\n",
      "Epoch 19/20\n",
      "10/10 [==============================] - 0s 4ms/step - loss: 0.6289 - accuracy: 0.6547 - val_loss: 0.6292 - val_accuracy: 0.6753\n",
      "Epoch 20/20\n",
      "10/10 [==============================] - 0s 3ms/step - loss: 0.6306 - accuracy: 0.6629 - val_loss: 0.6331 - val_accuracy: 0.6753\n",
      "5/5 [==============================] - 0s 994us/step - loss: 0.6331 - accuracy: 0.6753\n",
      "\n",
      "\n",
      " Loss 0.6331431865692139 Accuracy: 0.6753246784210205\n"
     ]
    }
   ],
   "source": [
    "# Creating the model.\n",
    "model = Sequential()\n",
    "\n",
    "# Adding layers to the model using Dense(#neurons/features?, activation func, dimensions of the input layer)\n",
    "model.add(Dense(84, activation='relu', input_dim=4))  # Hidden layer.\n",
    "model.add(Dense(2, activation='sigmoid'))  # Output layer.\n",
    "visualizer(model, format='png', view=True)\n",
    "\n",
    "model.compile(optimizer=SGD(), loss='categorical_crossentropy', metrics=['accuracy'])\n",
    "print(model.summary())\n",
    "\n",
    "# Training the model.\n",
    "history = model.fit(Xtrain, to_categorical(Ytrain),\n",
    "                    validation_data=(Xtest, to_categorical(Ytest)), epochs=20, batch_size=64)\n",
    "\n",
    "# Evaluating the model\n",
    "loss, accuracy = model.evaluate(Xtest, to_categorical(Ytest))\n",
    "print('\\n\\n Loss', loss, 'Accuracy:', accuracy)"
   ]
  },
  {
   "cell_type": "code",
   "execution_count": null,
   "metadata": {},
   "outputs": [],
   "source": []
  }
 ],
 "metadata": {
  "kernelspec": {
   "display_name": "Python 3",
   "language": "python",
   "name": "python3"
  },
  "language_info": {
   "codemirror_mode": {
    "name": "ipython",
    "version": 3
   },
   "file_extension": ".py",
   "mimetype": "text/x-python",
   "name": "python",
   "nbconvert_exporter": "python",
   "pygments_lexer": "ipython3",
   "version": "3.7.4"
  }
 },
 "nbformat": 4,
 "nbformat_minor": 2
}
